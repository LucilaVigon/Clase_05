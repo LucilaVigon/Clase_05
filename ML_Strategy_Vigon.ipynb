{
 "cells": [
  {
   "cell_type": "code",
   "execution_count": 1,
   "metadata": {},
   "outputs": [],
   "source": [
    "import numpy as np\n",
    "import pandas as pd\n",
    "import matplotlib.pyplot as plt\n",
    "import seaborn as sns"
   ]
  },
  {
   "cell_type": "code",
   "execution_count": 23,
   "metadata": {},
   "outputs": [],
   "source": [
    "from sklearn import preprocessing\n",
    "from sklearn.model_selection import train_test_split\n",
    "from sklearn.linear_model import LinearRegression, Ridge\n",
    "from sklearn.svm import SVR\n",
    "from sklearn.svm import LinearSVR\n",
    "from sklearn.neighbors import KNeighborsRegressor\n",
    "from sklearn.metrics import r2_score, mean_squared_error, mean_absolute_error\n",
    "\n",
    "from sklearn.model_selection import GridSearchCV"
   ]
  },
  {
   "cell_type": "code",
   "execution_count": 3,
   "metadata": {},
   "outputs": [
    {
     "data": {
      "text/plain": [
       "'C:\\\\Users\\\\Luli\\\\Desktop\\\\UTN\\\\phyton\\\\Clase 07\\\\clusterai_2020-master\\\\clases\\\\clase_07'"
      ]
     },
     "execution_count": 3,
     "metadata": {},
     "output_type": "execute_result"
    }
   ],
   "source": [
    "pwd"
   ]
  },
  {
   "cell_type": "code",
   "execution_count": 4,
   "metadata": {},
   "outputs": [
    {
     "name": "stdout",
     "output_type": "stream",
     "text": [
      " El volumen de la unidad C no tiene etiqueta.\n",
      " El número de serie del volumen es: 7015-57B3\n",
      "\n",
      " Directorio de C:\\Users\\Luli\\Desktop\\UTN\\phyton\\Clase 07\\clusterai_2020-master\\clases\\clase_07\n",
      "\n",
      "16/10/2020  06:07 p. m.    <DIR>          .\n",
      "16/10/2020  06:07 p. m.    <DIR>          ..\n",
      "16/10/2020  03:03 p. m.    <DIR>          .ipynb_checkpoints\n",
      "10/10/2020  08:52 a. m.             2.408 clusterai_2020_clase07_clustering_asignacion_properati.ipynb\n",
      "16/10/2020  05:14 p. m.           318.736 clusterai_2020_clase07_clustering_credit.ipynb\n",
      "16/10/2020  04:41 p. m.           392.533 clusterai_2020_clase07_clustering_vinos.ipynb\n",
      "10/10/2020  08:52 a. m.         1.537.377 clusterai_2020_clase07_presentacion.pdf\n",
      "16/10/2020  06:07 p. m.            11.107 ML_Strategy_Vigon.ipynb\n",
      "14/10/2020  03:45 p. m.               367 X_test.csv\n",
      "14/10/2020  03:45 p. m.             3.662 Xy_train.csv\n",
      "               7 archivos      2.266.190 bytes\n",
      "               3 dirs  373.229.813.760 bytes libres\n"
     ]
    }
   ],
   "source": [
    "ls"
   ]
  },
  {
   "cell_type": "code",
   "execution_count": 13,
   "metadata": {},
   "outputs": [],
   "source": [
    "Xy_train=pd.read_csv(r'C:\\Users\\Luli\\Desktop\\UTN\\phyton\\Clase 07\\clusterai_2020-master\\clases\\clase_07\\Xy_train.csv')\n",
    "X_test=pd.read_csv(r'C:\\Users\\Luli\\Desktop\\UTN\\phyton\\Clase 07\\clusterai_2020-master\\clases\\clase_07\\X_test.csv')"
   ]
  },
  {
   "cell_type": "code",
   "execution_count": 14,
   "metadata": {},
   "outputs": [
    {
     "name": "stdout",
     "output_type": "stream",
     "text": [
      "(100, 1) (100,)\n"
     ]
    }
   ],
   "source": [
    "xtrain = Xy_train.iloc[:,:-1].values\n",
    "ytrain = Xy_train.iloc[:,1].values\n",
    "print(xtrain.shape,ytrain.shape)"
   ]
  },
  {
   "cell_type": "code",
   "execution_count": 15,
   "metadata": {},
   "outputs": [],
   "source": [
    "#auto scaling train set y test set\n",
    "scaler = preprocessing.StandardScaler().fit(xtrain)\n",
    "xtrain_scal = scaler.transform(xtrain) \n",
    "xtest_scal = scaler.transform(X_test)"
   ]
  },
  {
   "cell_type": "markdown",
   "metadata": {},
   "source": [
    "# Linear Regression"
   ]
  },
  {
   "cell_type": "code",
   "execution_count": 17,
   "metadata": {},
   "outputs": [],
   "source": [
    "#Definimos el estimador\n",
    "estLR = LinearRegression()"
   ]
  },
  {
   "cell_type": "code",
   "execution_count": 18,
   "metadata": {},
   "outputs": [],
   "source": [
    "#Definimos diccionario con hyperparametros\n",
    "parameters = {'fit_intercept' : [False, True]}"
   ]
  },
  {
   "cell_type": "code",
   "execution_count": 19,
   "metadata": {},
   "outputs": [
    {
     "data": {
      "text/plain": [
       "GridSearchCV(cv=5, error_score=nan,\n",
       "             estimator=LinearRegression(copy_X=True, fit_intercept=True,\n",
       "                                        n_jobs=None, normalize=False),\n",
       "             iid='deprecated', n_jobs=None,\n",
       "             param_grid={'fit_intercept': [False, True]},\n",
       "             pre_dispatch='2*n_jobs', refit=True, return_train_score=False,\n",
       "             scoring='neg_mean_squared_error', verbose=0)"
      ]
     },
     "execution_count": 19,
     "metadata": {},
     "output_type": "execute_result"
    }
   ],
   "source": [
    "#Definimos la cantidad de folds para validar\n",
    "n_folds = 5\n",
    "#Definimos el objeto grid search con los parametros anteriores\n",
    "gs = GridSearchCV(estLR, param_grid=parameters, cv=n_folds, refit=True, scoring=\"neg_mean_squared_error\")\n",
    "gs.fit(xtrain_scal, ytrain)"
   ]
  },
  {
   "cell_type": "code",
   "execution_count": 20,
   "metadata": {},
   "outputs": [
    {
     "name": "stdout",
     "output_type": "stream",
     "text": [
      "LinearRegression(copy_X=True, fit_intercept=True, n_jobs=None, normalize=False) \n",
      "\n",
      "{'fit_intercept': True} \n",
      "\n",
      "-3.6488432812686495 \n",
      "\n"
     ]
    }
   ],
   "source": [
    "print(gs.best_estimator_, \"\\n\")\n",
    "print(gs.best_params_, \"\\n\")\n",
    "print(gs.best_score_, \"\\n\")"
   ]
  },
  {
   "cell_type": "code",
   "execution_count": 21,
   "metadata": {},
   "outputs": [
    {
     "data": {
      "text/plain": [
       "array([5.96759494, 6.03934112, 7.34459198, 3.89326209, 4.07392204,\n",
       "       6.17817658, 7.23702974, 2.6544078 , 7.5808747 , 4.05645739,\n",
       "       4.3667152 , 6.10182228, 7.60127901, 2.95434962, 5.15379446,\n",
       "       7.02760273, 5.30666086, 5.88178477, 6.50265793, 6.02722072])"
      ]
     },
     "execution_count": 21,
     "metadata": {},
     "output_type": "execute_result"
    }
   ],
   "source": [
    "# Predicciones\n",
    "ypred = gs.best_estimator_.predict(xtest_scal)\n",
    "ypred"
   ]
  },
  {
   "cell_type": "markdown",
   "metadata": {},
   "source": [
    "# Ridge Regression"
   ]
  },
  {
   "cell_type": "code",
   "execution_count": 24,
   "metadata": {},
   "outputs": [],
   "source": [
    "# Ahora cambiamos el estimador, usaremos Ridge Regression\n",
    "estRR = Ridge()\n",
    "# Lista del parametro lambda (llamado 'alpha' en el GridSearch )\n",
    "lambdas = [-1.4,-1.38,-1.35,-1.32,-1.3,-1.28,-1.25]"
   ]
  },
  {
   "cell_type": "code",
   "execution_count": 25,
   "metadata": {},
   "outputs": [],
   "source": [
    "# Juntamos el diccionario de parametros\n",
    "parameters = {'alpha': lambdas}"
   ]
  },
  {
   "cell_type": "code",
   "execution_count": 26,
   "metadata": {},
   "outputs": [],
   "source": [
    "# Definimos nuevamente el objeto GS con los parametros previamente definidos\n",
    "gs2 = GridSearchCV(estRR, param_grid=parameters,refit=True, cv=n_folds, scoring=\"neg_mean_squared_error\")\n"
   ]
  },
  {
   "cell_type": "code",
   "execution_count": 27,
   "metadata": {},
   "outputs": [
    {
     "data": {
      "text/plain": [
       "GridSearchCV(cv=5, error_score=nan,\n",
       "             estimator=Ridge(alpha=1.0, copy_X=True, fit_intercept=True,\n",
       "                             max_iter=None, normalize=False, random_state=None,\n",
       "                             solver='auto', tol=0.001),\n",
       "             iid='deprecated', n_jobs=None,\n",
       "             param_grid={'alpha': [-1.4, -1.38, -1.35, -1.32, -1.3, -1.28,\n",
       "                                   -1.25]},\n",
       "             pre_dispatch='2*n_jobs', refit=True, return_train_score=False,\n",
       "             scoring='neg_mean_squared_error', verbose=0)"
      ]
     },
     "execution_count": 27,
     "metadata": {},
     "output_type": "execute_result"
    }
   ],
   "source": [
    "# Entrenamos\n",
    "gs2.fit(xtrain_scal, ytrain)"
   ]
  },
  {
   "cell_type": "code",
   "execution_count": 28,
   "metadata": {},
   "outputs": [
    {
     "name": "stdout",
     "output_type": "stream",
     "text": [
      "Ridge(alpha=-1.3, copy_X=True, fit_intercept=True, max_iter=None,\n",
      "      normalize=False, random_state=None, solver='auto', tol=0.001) \n",
      "\n",
      "{'alpha': -1.3} \n",
      "\n",
      "-3.6482535486442083 \n",
      "\n"
     ]
    }
   ],
   "source": [
    "# Mostramos el mejor estimador, sus hyperparametros seleccionados y su resultado\n",
    "print(gs2.best_estimator_, \"\\n\")\n",
    "print(gs2.best_params_, \"\\n\")\n",
    "print(gs2.best_score_, \"\\n\")"
   ]
  },
  {
   "cell_type": "code",
   "execution_count": 43,
   "metadata": {},
   "outputs": [
    {
     "data": {
      "text/plain": [
       "array([5.97937724, 6.0520684 , 7.37451101, 3.87772288, 4.06076234,\n",
       "       6.19273249, 7.26553205, 2.62255136, 7.61390586, 4.04306766,\n",
       "       4.35741194, 6.11537251, 7.63457893, 2.92644378, 5.154858  ,\n",
       "       7.05334662, 5.30973784, 5.89243684, 6.52148766, 6.03978836])"
      ]
     },
     "execution_count": 43,
     "metadata": {},
     "output_type": "execute_result"
    }
   ],
   "source": [
    "#Predicciones\n",
    "ypred2 = gs2.best_estimator_.predict(xtest_scal)\n",
    "ypred2"
   ]
  },
  {
   "cell_type": "markdown",
   "metadata": {},
   "source": [
    "# SVR"
   ]
  },
  {
   "cell_type": "code",
   "execution_count": 30,
   "metadata": {},
   "outputs": [],
   "source": [
    "# Estimador\n",
    "estSVR = SVR(max_iter=25000)\n",
    "# Lista del parametro lambda (parametro 'alpha')\n",
    "parameters = {'C' : [1000,1500,2000,3000,5000],\n",
    "              'epsilon' : [0.001, 0.01, 0.1,1, 10,100],\n",
    "             'gamma':[0.001, 0.01, 0.1,1, 10,100]}\n",
    "# Definimos nuevamente el objeto GS con los parametros previamente definidos\n",
    "gs3 = GridSearchCV(estSVR, param_grid=parameters,refit=True,\n",
    "                  cv=n_folds, scoring=\"neg_mean_squared_error\",\n",
    "                  verbose=3, n_jobs=3)"
   ]
  },
  {
   "cell_type": "code",
   "execution_count": 31,
   "metadata": {},
   "outputs": [
    {
     "name": "stdout",
     "output_type": "stream",
     "text": [
      "Fitting 5 folds for each of 180 candidates, totalling 900 fits\n"
     ]
    },
    {
     "name": "stderr",
     "output_type": "stream",
     "text": [
      "[Parallel(n_jobs=3)]: Using backend LokyBackend with 3 concurrent workers.\n",
      "[Parallel(n_jobs=3)]: Done  26 tasks      | elapsed:   10.8s\n",
      "[Parallel(n_jobs=3)]: Done 530 tasks      | elapsed:   21.8s\n"
     ]
    },
    {
     "name": "stdout",
     "output_type": "stream",
     "text": [
      "SVR(C=1500, cache_size=200, coef0=0.0, degree=3, epsilon=0.1, gamma=1,\n",
      "    kernel='rbf', max_iter=25000, shrinking=True, tol=0.001, verbose=False) \n",
      "\n",
      "{'C': 1500, 'epsilon': 0.1, 'gamma': 1} \n",
      "\n",
      "-0.6161412021487849 \n",
      "\n"
     ]
    },
    {
     "name": "stderr",
     "output_type": "stream",
     "text": [
      "[Parallel(n_jobs=3)]: Done 900 out of 900 | elapsed:   33.7s finished\n"
     ]
    }
   ],
   "source": [
    "# Entrenamos\n",
    "gs3.fit(xtrain_scal, ytrain)\n",
    "print(gs3.best_estimator_, \"\\n\")\n",
    "print(gs3.best_params_, \"\\n\")\n",
    "print(gs3.best_score_, \"\\n\")\n",
    "# Prediccion + Metricas\n",
    "svr_prediction = gs3.best_estimator_.predict(xtest_scal)"
   ]
  },
  {
   "cell_type": "code",
   "execution_count": 42,
   "metadata": {},
   "outputs": [
    {
     "data": {
      "text/plain": [
       "array([5.96759494, 6.03934112, 7.34459198, 3.89326209, 4.07392204,\n",
       "       6.17817658, 7.23702974, 2.6544078 , 7.5808747 , 4.05645739,\n",
       "       4.3667152 , 6.10182228, 7.60127901, 2.95434962, 5.15379446,\n",
       "       7.02760273, 5.30666086, 5.88178477, 6.50265793, 6.02722072])"
      ]
     },
     "execution_count": 42,
     "metadata": {},
     "output_type": "execute_result"
    }
   ],
   "source": [
    "#Predicciones\n",
    "ypred3 = gs.best_estimator_.predict(xtest_scal)\n",
    "ypred3"
   ]
  },
  {
   "cell_type": "markdown",
   "metadata": {},
   "source": [
    "# KNN"
   ]
  },
  {
   "cell_type": "code",
   "execution_count": 33,
   "metadata": {},
   "outputs": [],
   "source": [
    "from sklearn.neighbors import KNeighborsRegressor\n",
    "from sklearn import neighbors\n",
    "parameters_k = np.arange(0,20,1)"
   ]
  },
  {
   "cell_type": "code",
   "execution_count": 34,
   "metadata": {},
   "outputs": [],
   "source": [
    "parameters_knn = [{'n_neighbors': parameters_k}]"
   ]
  },
  {
   "cell_type": "code",
   "execution_count": 35,
   "metadata": {},
   "outputs": [],
   "source": [
    "for i, weights in enumerate(['uniform', 'distance']):\n",
    "    knn = neighbors.KNeighborsRegressor(n_neighbors=5, weights=weights)"
   ]
  },
  {
   "cell_type": "code",
   "execution_count": 37,
   "metadata": {},
   "outputs": [],
   "source": [
    "gs4 = GridSearchCV(knn, param_grid=parameters_knn,refit=True,\n",
    "                  cv=n_folds, scoring=\"neg_mean_squared_error\",\n",
    "                  verbose=3, n_jobs=3)"
   ]
  },
  {
   "cell_type": "code",
   "execution_count": 39,
   "metadata": {},
   "outputs": [
    {
     "name": "stdout",
     "output_type": "stream",
     "text": [
      "Fitting 5 folds for each of 20 candidates, totalling 100 fits\n"
     ]
    },
    {
     "name": "stderr",
     "output_type": "stream",
     "text": [
      "[Parallel(n_jobs=3)]: Using backend LokyBackend with 3 concurrent workers.\n"
     ]
    },
    {
     "name": "stdout",
     "output_type": "stream",
     "text": [
      "KNeighborsRegressor(algorithm='auto', leaf_size=30, metric='minkowski',\n",
      "                    metric_params=None, n_jobs=None, n_neighbors=8, p=2,\n",
      "                    weights='distance') \n",
      "\n",
      "{'n_neighbors': 8} \n",
      "\n",
      "-0.950113783374178 \n",
      "\n"
     ]
    },
    {
     "name": "stderr",
     "output_type": "stream",
     "text": [
      "[Parallel(n_jobs=3)]: Done  27 tasks      | elapsed:    6.2s\n",
      "[Parallel(n_jobs=3)]: Done 100 out of 100 | elapsed:    6.4s finished\n"
     ]
    }
   ],
   "source": [
    "# Entrenamos\n",
    "gs4.fit(xtrain_scal, ytrain)\n",
    "print(gs4.best_estimator_, \"\\n\")\n",
    "print(gs4.best_params_, \"\\n\")\n",
    "print(gs4.best_score_, \"\\n\")"
   ]
  },
  {
   "cell_type": "code",
   "execution_count": 44,
   "metadata": {},
   "outputs": [
    {
     "data": {
      "text/plain": [
       "array([ 2.92393505,  3.26962092,  7.46609246,  5.3709889 ,  4.97771795,\n",
       "        3.72960515,  7.17188444,  1.06742847,  9.89531366,  5.1210491 ,\n",
       "        5.46862087,  3.53654039, 10.10370806,  2.14385093,  4.09004793,\n",
       "        6.33895138,  5.00254869,  2.94088323,  4.14479879,  3.21830652])"
      ]
     },
     "execution_count": 44,
     "metadata": {},
     "output_type": "execute_result"
    }
   ],
   "source": [
    "# Prediccion\n",
    "svr_prediction = gs4.best_estimator_.predict(xtest_scal)\n",
    "svr_prediction"
   ]
  },
  {
   "cell_type": "code",
   "execution_count": null,
   "metadata": {},
   "outputs": [],
   "source": []
  }
 ],
 "metadata": {
  "kernelspec": {
   "display_name": "Python 3",
   "language": "python",
   "name": "python3"
  },
  "language_info": {
   "codemirror_mode": {
    "name": "ipython",
    "version": 3
   },
   "file_extension": ".py",
   "mimetype": "text/x-python",
   "name": "python",
   "nbconvert_exporter": "python",
   "pygments_lexer": "ipython3",
   "version": "3.7.6"
  }
 },
 "nbformat": 4,
 "nbformat_minor": 4
}
